{
 "cells": [
  {
   "cell_type": "code",
   "execution_count": 1,
   "metadata": {},
   "outputs": [],
   "source": [
    "import numpy as np"
   ]
  },
  {
   "cell_type": "code",
   "execution_count": 4,
   "metadata": {},
   "outputs": [],
   "source": [
    "array1 = np.array([1, 5, 3, 2, 4])"
   ]
  },
  {
   "cell_type": "code",
   "execution_count": 9,
   "metadata": {},
   "outputs": [
    {
     "name": "stdout",
     "output_type": "stream",
     "text": [
      "최대 값: 5\n",
      "최소 값: 1\n",
      "최대 값의 위치 : 1\n",
      "최소 값의 위치 : 0\n"
     ]
    }
   ],
   "source": [
    "#최대\n",
    "print(f'최대 값: {np.max(array1)}')\n",
    "# 최소\n",
    "print(f'최소 값: {np.min(array1)}')\n",
    "# 최대 값의 위치\n",
    "print('최대 값의 위치 :', np.argmax(array1))\n",
    "# 최소 값의 위치\n",
    "print('최소 값의 위치 :', np.argmin(array1))\n"
   ]
  },
  {
   "cell_type": "code",
   "execution_count": 10,
   "metadata": {},
   "outputs": [
    {
     "name": "stdout",
     "output_type": "stream",
     "text": [
      "총합 :  15\n",
      "평균 :  3.0\n",
      "중간값 :  3.0\n"
     ]
    }
   ],
   "source": [
    "print('총합 : ', np.sum(array1))\n",
    "print('평균 : ', np.mean(array1))\n",
    "print('중간값 : ' , np.median(array1))"
   ]
  },
  {
   "cell_type": "code",
   "execution_count": null,
   "metadata": {},
   "outputs": [],
   "source": []
  }
 ],
 "metadata": {
  "kernelspec": {
   "display_name": "Python 3",
   "language": "python",
   "name": "python3"
  },
  "language_info": {
   "codemirror_mode": {
    "name": "ipython",
    "version": 3
   },
   "file_extension": ".py",
   "mimetype": "text/x-python",
   "name": "python",
   "nbconvert_exporter": "python",
   "pygments_lexer": "ipython3",
   "version": "3.7.6"
  }
 },
 "nbformat": 4,
 "nbformat_minor": 4
}
